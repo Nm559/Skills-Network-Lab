{
 "cells": [
  {
   "cell_type": "markdown",
   "id": "cbf670b2-4aa6-466d-8be4-47921a9247eb",
   "metadata": {},
   "source": [
    "# Data Science Tools and Ecosystem\n",
    "\n",
    "\n"
   ]
  },
  {
   "cell_type": "markdown",
   "id": "4ae43f20-d46a-48ca-8374-0563389748ca",
   "metadata": {},
   "source": [
    "In this notebook, Data Science Tools and Ecosystem are summarized.\n"
   ]
  },
  {
   "cell_type": "markdown",
   "id": "3e2d0834-633a-4221-8996-4bf1f7f57809",
   "metadata": {},
   "source": [
    "**Objectives:**\n",
    "\n",
    "- List popular languages for Data Science\n",
    "- List popular libraries for Data Science\n",
    "- Show 3 development environment open source tools for Data Science\n",
    "- Show some examples of evaluating arithmetic expressions in Python\n",
    "\n",
    "\n"
   ]
  },
  {
   "cell_type": "markdown",
   "id": "df7130e8-d6bb-4cdf-ab35-ba6ff1dcd198",
   "metadata": {},
   "source": [
    "Some of the popular languages that Data Scientists use are:\n",
    "1. Python\n",
    "2. R\n",
    "3. SQL\n",
    "4. C++\n",
    "5. Java\n",
    "6. Scala\n",
    "7. Julia\n",
    "\n",
    "\n",
    "\n",
    "\n"
   ]
  },
  {
   "cell_type": "markdown",
   "id": "5c0e692a-98bb-4352-a576-ff92fb887a2f",
   "metadata": {},
   "source": [
    "Some of the commonly used libraries used by Data Scientists include:\n",
    "\n",
    "1. NumPy\n",
    "2. Pandas\n",
    "3. Matplotlib\n",
    "4. Scikit-learn\n",
    "5. PyTorch\n",
    "6. TensorFlow\n",
    "\n",
    " "
   ]
  },
  {
   "cell_type": "markdown",
   "id": "56f815f4-a674-474c-9397-87b54405c73f",
   "metadata": {},
   "source": [
    "|Data Science Tools|\n",
    "|-------|\n",
    "|JupyerLab|\n",
    "|RStudio|\n",
    "|Apache Spark|\n",
    "\n"
   ]
  },
  {
   "cell_type": "markdown",
   "id": "9cbc88dd-f5a3-4b4a-be20-35f661afe2b8",
   "metadata": {},
   "source": [
    "### Below are a few examples of evaluating arithmetic expressions in Python\n"
   ]
  },
  {
   "cell_type": "code",
   "execution_count": 6,
   "id": "b6f4c664-82ca-45ab-a4e6-ff602fbb51f2",
   "metadata": {},
   "outputs": [],
   "source": [
    "#This a simple arithmetic expression to multiply then add integers."
   ]
  },
  {
   "cell_type": "code",
   "execution_count": 7,
   "id": "d79f69d4-3e2d-46dc-9d60-ca35501a47c1",
   "metadata": {},
   "outputs": [
    {
     "data": {
      "text/plain": [
       "17"
      ]
     },
     "execution_count": 7,
     "metadata": {},
     "output_type": "execute_result"
    }
   ],
   "source": [
    "(3*4)+5\n"
   ]
  },
  {
   "cell_type": "code",
   "execution_count": 10,
   "id": "b8f44d29-c7a1-4679-9cd2-ba72d23cce3f",
   "metadata": {},
   "outputs": [],
   "source": [
    "#This will convert 200 minutes to hours by dividing by 60\n",
    "\n"
   ]
  },
  {
   "cell_type": "code",
   "execution_count": 9,
   "id": "f24410d4-cb97-419d-8266-3acf0687196b",
   "metadata": {},
   "outputs": [
    {
     "data": {
      "text/plain": [
       "3.3333333333333335"
      ]
     },
     "execution_count": 9,
     "metadata": {},
     "output_type": "execute_result"
    }
   ],
   "source": [
    "200/60\n"
   ]
  },
  {
   "cell_type": "markdown",
   "id": "0dc29b4f-6a9e-46f0-a00f-92d2ab3408f3",
   "metadata": {},
   "source": [
    "## Author\n",
    "Nyasha Mauchaza\n"
   ]
  },
  {
   "cell_type": "code",
   "execution_count": null,
   "id": "00bdd1d1-463d-43ce-9f5c-d0ac8c0b4c85",
   "metadata": {},
   "outputs": [],
   "source": []
  }
 ],
 "metadata": {
  "kernelspec": {
   "display_name": "Python 3 (ipykernel)",
   "language": "python",
   "name": "python3"
  },
  "language_info": {
   "codemirror_mode": {
    "name": "ipython",
    "version": 3
   },
   "file_extension": ".py",
   "mimetype": "text/x-python",
   "name": "python",
   "nbconvert_exporter": "python",
   "pygments_lexer": "ipython3",
   "version": "3.12.8"
  }
 },
 "nbformat": 4,
 "nbformat_minor": 5
}
